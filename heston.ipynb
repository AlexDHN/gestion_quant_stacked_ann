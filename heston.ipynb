{
 "cells": [
  {
   "cell_type": "markdown",
   "metadata": {
    "collapsed": false
   },
   "source": [
    "### Importation des librairies utilisés dans le notebook"
   ]
  },
  {
   "cell_type": "code",
   "execution_count": 2,
   "metadata": {
    "collapsed": true
   },
   "outputs": [],
   "source": [
    "import warnings\n",
    "\n",
    "warnings.filterwarnings('ignore')\n",
    "\n",
    "import pandas as pd\n",
    "import numpy as np\n",
    "import yfinance as yf\n",
    "\n",
    "import matplotlib.pyplot as plt\n",
    "from nelson_siegel_svensson import NelsonSiegelSvenssonCurve\n",
    "from nelson_siegel_svensson.calibrate import calibrate_nss_ols\n",
    "from scipy.integrate import quad\n",
    "from scipy.optimize import minimize\n",
    "\n",
    "from math import sqrt, log, exp, pi\n",
    "\n",
    "from scipy.stats import norm, multivariate_normal"
   ]
  },
  {
   "cell_type": "markdown",
   "metadata": {
    "collapsed": false
   },
   "source": [
    "### Creation d'une fonction de calcul de prix des options avec Black-Scholes"
   ]
  },
  {
   "cell_type": "code",
   "execution_count": 3,
   "metadata": {
    "collapsed": false
   },
   "outputs": [],
   "source": [
    "def bs(rates, spot, strike, tau, sigma, type=\"c\"):\n",
    "    d1 = (log(spot / strike) + (rates + (sigma ** 2) / 2) * tau) / (sigma * sqrt(tau))\n",
    "    d2 = d1 - sigma * sqrt(tau)\n",
    "    if type == \"c\":\n",
    "        return spot * norm.cdf(d1, 0, 1) - strike * exp(-rates * tau) * norm.cdf(d2, 0, 1)\n",
    "    elif type == \"p\":\n",
    "        return strike * exp(-rates * tau) * norm.cdf(-d2, 0, 1) - spot * norm.cdf(-d1, 0, 1)\n",
    "\n"
   ]
  },
  {
   "cell_type": "markdown",
   "metadata": {
    "collapsed": false
   },
   "source": [
    "### Calibration des courbes de taux a l'aide de L'algorithme de Nelson-Siegel-Svensson"
   ]
  },
  {
   "cell_type": "code",
   "execution_count": 4,
   "metadata": {
    "collapsed": false
   },
   "outputs": [],
   "source": [
    "date = pd.Timestamp('2022-01-03')\n",
    "url = f\"https://home.treasury.gov/resource-center/data-chart-center/interest-rates/daily-treasury-rates.csv\" \\\n",
    "      f\"/{date.year}/all?type=daily_treasury_yield_curve&field_tdr_date_value={date.year}&page&_format=csv\"\n",
    "rates = pd.read_csv(url, index_col=0, parse_dates=True)\n",
    "curve = rates.loc[date].dropna(axis=0) / 100\n",
    "\n",
    "yield_maturities = []\n",
    "\n",
    "for maturities in curve.index:\n",
    "    if \"Mo\" in maturities:\n",
    "        yield_maturities.append(int(maturities.replace(\" Mo\", \"\")) / 12)\n",
    "    elif \"Yr\" in maturities:\n",
    "        yield_maturities.append(int(maturities.replace(\" Yr\", \"\")))\n",
    "\n",
    "yield_maturities = np.array(yield_maturities)\n",
    "\n",
    "beta, nss_status = calibrate_nss_ols(yield_maturities, curve.to_numpy())\n",
    "parameters = beta.__dict__\n",
    "r = NelsonSiegelSvenssonCurve(**parameters)"
   ]
  },
  {
   "cell_type": "markdown",
   "metadata": {
    "collapsed": false
   },
   "source": [
    "### Préparation de la surface de volatilité utilisé pour la calibration du modèle"
   ]
  },
  {
   "cell_type": "code",
   "execution_count": 7,
   "metadata": {
    "collapsed": false
   },
   "outputs": [],
   "source": [
    "MAPPING_TAU = {\n",
    "    \"1m\": 1 / 12,\n",
    "    \"2m\": 2 / 12,\n",
    "    \"3m\": 3 / 12,\n",
    "    \"6m\": 6 / 12,\n",
    "    \"1y\": 1,\n",
    "    \"2y\": 2,\n",
    "    \"3y\": 3,\n",
    "}\n",
    "\n",
    "vol_surface = pd.read_csv(\"data/sx5e_volatility_surfaces.csv\",sep=\";\").set_index(\"Strike\", drop=True).apply(lambda x: x / 100)\n",
    "\n",
    "strikes = vol_surface.index.values\n",
    "expiry = vol_surface.columns.values\n",
    "\n",
    "price_surface = pd.DataFrame({}, index=strikes, columns=expiry)\n",
    "vol_coordinates = vol_surface.applymap(lambda x: (np.where(vol_surface == x))).applymap(lambda x: (x[0][0], x[1][0]))\n",
    "price_surface = vol_coordinates.applymap(lambda x: bs(rates=r.zero(MAPPING_TAU[expiry[x[1]]]),\n",
    "                                                      spot=100,\n",
    "                                                      strike=strikes[x[0]],\n",
    "                                                      tau=MAPPING_TAU[expiry[x[1]]],\n",
    "                                                      sigma=vol_surface.iloc[x[0], x[1]]))"
   ]
  },
  {
   "cell_type": "markdown",
   "metadata": {
    "collapsed": false
   },
   "source": [
    "### Préparation des fonctions nécessaires au calcul du prix d'un Call Européen via la formule semi-explicite de Heston"
   ]
  },
  {
   "cell_type": "code",
   "execution_count": 8,
   "metadata": {
    "collapsed": false
   },
   "outputs": [],
   "source": [
    "def heston_characteristic_function(u, spot, variance, kappa, theta, sigma, rho, lambda_, expiry, r):\n",
    "    \"\"\"\n",
    "    :\n",
    "    :param u: complex variable\n",
    "    :param spot: spot price\n",
    "    :param variance: variance\n",
    "    :param kappa: mean reversion speed\n",
    "    :param theta: mean reversion level\n",
    "    :param sigma: volatility of variance\n",
    "    :param rho: correlation between spot and variance\n",
    "    :param lambda_: market price risk\n",
    "    :param expiry: time to maturity\n",
    "    :param r: risk free rate\n",
    "    :return: characteristic function of the Heston model\n",
    "    \"\"\"\n",
    "    a = kappa * theta\n",
    "    b = kappa + lambda_\n",
    "\n",
    "    rspi = rho * sigma * u * 1j\n",
    "\n",
    "    d = np.sqrt((rho * sigma * u * 1j - b) ** 2 + (u * 1j + u ** 2) * sigma ** 2)\n",
    "\n",
    "    g = (b - rspi + d) / (b - rspi - d)\n",
    "\n",
    "    exp1 = np.exp(r(expiry) * u * 1j * expiry)\n",
    "    term2 = spot ** (u * 1j) * ((1 - g * np.exp(d * expiry)) / (1 - g)) ** (-2 * a / sigma ** 2)\n",
    "    exp2 = np.exp(a * expiry * (b - rspi + d) / sigma ** 2 + variance * (b - rspi + d) * (\n",
    "            (1 - np.exp(d * expiry)) / (1 - g * np.exp(d * expiry))) / sigma ** 2)\n",
    "\n",
    "    return exp1 * term2 * exp2\n",
    "\n",
    "def heston_integrand(u, K, spot, variance, kappa, theta, sigma, rho, lambda_, expiry, r):\n",
    "    \"\"\"\n",
    "\n",
    "    :param u: complex variable\n",
    "    :param K: strike\n",
    "    :param spot: spot price\n",
    "    :param variance: variance\n",
    "    :param kappa: mean reversion speed\n",
    "    :param theta: mean reversion level\n",
    "    :param sigma: volatility of variance\n",
    "    :param rho: correlation between spot and variance\n",
    "    :param lambda_: market price risk\n",
    "    :param expiry: time to maturity\n",
    "    :param r: risk free rate\n",
    "    :return: integrand of the Heston model\n",
    "    \"\"\"\n",
    "    args = (spot, variance, kappa, theta, sigma, rho, lambda_, expiry, r)\n",
    "    f1 = np.exp(r(expiry) * expiry) * heston_characteristic_function(u - 1j, *args) / (u * 1j * K ** (1j * u))\n",
    "    f2 = K * heston_characteristic_function(u, *args) / (u * 1j * K ** (1j * u))\n",
    "    return f1 - f2\n",
    "\n",
    "def heston_price(K, spot, variance, kappa, theta, sigma, rho, lambda_, expiry, r):\n",
    "    \"\"\"\n",
    "    :\n",
    "    :param K: strike\n",
    "    :param spot: spot price\n",
    "    :param variance: variance\n",
    "    :param kappa: mean reversion speed\n",
    "    :param theta: mean reversion level\n",
    "    :param sigma: volatility of variance\n",
    "    :param rho: correlation between spot and variance\n",
    "    :param lambda_: market price risk\n",
    "    :param expiry: time to maturity\n",
    "    :param r: risk free rate\n",
    "    :return: price of a call option for the Heston model\n",
    "    \"\"\"\n",
    "    args = (K, spot, variance, kappa, theta, sigma, rho, lambda_, expiry, r)\n",
    "\n",
    "    real_integral, err = np.real(quad(heston_integrand, 0, 100, args=args))\n",
    "    return (spot - K * np.exp(- r(expiry) * expiry)) / 2 + real_integral / np.pi"
   ]
  },
  {
   "cell_type": "markdown",
   "metadata": {
    "collapsed": false
   },
   "source": [
    "### Préparation des paramètres a optimiser a l'aide de l'algorithme d'optimisation"
   ]
  },
  {
   "cell_type": "code",
   "execution_count": 9,
   "metadata": {
    "collapsed": false
   },
   "outputs": [],
   "source": [
    "parameters = {\n",
    "    \"v0\": {\"u0\": np.random.uniform(1e-3, 0.99999), \"lbub\": [1e-6, 0.99999]},\n",
    "    \"kappa\": {\"u0\": np.random.uniform(1e-6, 4.99999), \"lbub\": [1e-6, 4.99999]},\n",
    "    \"theta\": {\"u0\": np.random.uniform(1e-6, 0.99999), \"lbub\": [1e-6, 0.99999]},\n",
    "    \"vol_vol\": {\"u0\": np.random.uniform(1e-6, 0.99999), \"lbub\": [1e-6, 0.99999]},\n",
    "    \"rho\": {\"u0\": np.random.uniform(-0.99999, 0.99999), \"lbub\": [-0.99999, 0.99999]},\n",
    "    \"lambda\": {\"u0\": np.random.uniform(-0.99999, 0.99999), \"lbub\": [-0.99999, 0.99999]},\n",
    "}\n",
    "\n",
    "u0 = [parameters[key][\"u0\"] for key, param in parameters.items()]\n",
    "boundaries = [param[\"lbub\"] for key, param in parameters.items()]\n"
   ]
  },
  {
   "cell_type": "code",
   "execution_count": 10,
   "metadata": {
    "collapsed": false
   },
   "outputs": [],
   "source": [
    "def cost_function(u):\n",
    "    \"\"\"Cost function to minimize\"\"\"\n",
    "    variance, kappa, theta, sigma, rho, lambda_ = u\n",
    "    heston_prices = vol_coordinates.applymap(\n",
    "        lambda x: heston_price(\n",
    "            K=strikes[x[0]],\n",
    "            spot=100,\n",
    "            variance=variance,\n",
    "            kappa=kappa,\n",
    "            theta=theta,\n",
    "            sigma=sigma,\n",
    "            rho=rho,\n",
    "            lambda_=lambda_,\n",
    "            expiry=MAPPING_TAU[expiry[x[1]]],\n",
    "            r=r\n",
    "        )\n",
    "    )\n",
    "\n",
    "    na_columns = heston_prices.columns[heston_prices.isna().any()].tolist()\n",
    "    return np.sum(\n",
    "        np.sum((price_surface.drop(na_columns, axis=1) - heston_prices.drop(na_columns, axis=1)) ** 2)) / (\n",
    "            len(strikes) * (len(expiry) - len(na_columns)))\n",
    "\n",
    "\n",
    "def constraint(u):\n",
    "    \"\"\"Constraint on the variance to make sure it is positive\"\"\"\n",
    "    variance, kappa, theta, sigma, rho, lambda_ = u\n",
    "    return - (2 * kappa * theta - sigma)\n",
    "\n",
    "\n",
    "def calibrate_heston():\n",
    "    \"\"\"Calibrate the Heston model\"\"\"\n",
    "    res = minimize(cost_function, u0, method='SLSQP', options={\"maxiter\": 1e4}, tol=1e-3, bounds=boundaries)\n",
    "    u_star = {key: res.x[i] for i, key in enumerate(parameters.keys())}\n",
    "    return u_star, res.message, res.status, res.fun"
   ]
  },
  {
   "cell_type": "markdown",
   "metadata": {
    "collapsed": false
   },
   "source": [
    "### Définition de la fonction permettant de généerer des simulations de Monte-Carlo sous la dynamique de Heston"
   ]
  },
  {
   "cell_type": "code",
   "execution_count": 11,
   "metadata": {
    "collapsed": false
   },
   "outputs": [],
   "source": [
    "def heston_montecarlo(spot, variance, kappa, theta, sigma, rho, lambda_, expiry, r, nb_steps, nb_simulations,\n",
    "                      p=\"Q\"):\n",
    "    \"\"\"\n",
    "\n",
    "    :param spot: spot price\n",
    "    :param variance: variance\n",
    "    :param kappa: mean reversion speed\n",
    "    :param theta: mean reversion level\n",
    "    :param var_vol: volatility of variance\n",
    "    :param rho: correlation between spot and variance\n",
    "    :param lambda_: market price risk\n",
    "    :param expiry: time to maturity\n",
    "    :param r: risk free rate\n",
    "    :param nb_steps: number of steps\n",
    "    :param nb_simulations: number of simulations\n",
    "    :param p: \"P\" for historical measure, \"Q\" for simulation under the risk neutral measure\n",
    "    :return:\n",
    "    \"\"\"\n",
    "    kappa_p = kappa - lambda_\n",
    "    theta_p = theta * kappa / kappa_p\n",
    "\n",
    "    xo = np.log(spot)\n",
    "    vo = np.log(variance)\n",
    "\n",
    "    dt = expiry / nb_steps\n",
    "\n",
    "    feller = 2 * kappa > sigma\n",
    "    ans = None\n",
    "    if not feller:\n",
    "        ans = input(\"Warning: Feller condition is not satisfied. Please press 'y' to continue or 'n' to stop.\")\n",
    "        while ans not in [\"y\", \"n\"]:\n",
    "            ans = input(\"Please press 'y' to continue or 'n' to stop.\")\n",
    "        if ans == \"n\":\n",
    "            return\n",
    "\n",
    "    mu = np.zeros(2)\n",
    "    cov = np.array([[1, rho], [rho, 1]])\n",
    "\n",
    "    W = multivariate_normal.rvs(mean=mu, cov=cov, size=(nb_simulations, nb_steps - 1))\n",
    "    W_S = W[:, :, 0]\n",
    "    W_V = W[:, :, 1]\n",
    "\n",
    "    S = np.zeros((nb_simulations, nb_steps))\n",
    "    V = np.zeros((nb_simulations, nb_steps))\n",
    "\n",
    "    S[:, 0] = spot\n",
    "    V[:, 0] = variance\n",
    "\n",
    "    kappa = kappa if p == \"Q\" else kappa_p\n",
    "    theta = theta if p == \"Q\" else theta_p\n",
    "\n",
    "    for i in range(nb_steps - 1):\n",
    "        S[:, i + 1] = S[:, i] * np.exp((r(expiry) - 0.5 * V[:, i]) * dt + np.sqrt(V[:, i] * dt) * W_S[:, i])\n",
    "        V[:, i + 1] = V[:, i] + np.maximum(kappa * (theta - V[:, i]) * dt + sigma * np.sqrt(V[:, i] * dt) * W_V[:, i],\n",
    "                                           0)\n",
    "\n",
    "    return S, V"
   ]
  },
  {
   "cell_type": "code",
   "execution_count": 12,
   "metadata": {
    "collapsed": false
   },
   "outputs": [],
   "source": [
    "u_star, _, _, _ = calibrate_heston()\n",
    "v0, kappa, theta, vol_vol, rho, lambda_ = [u for u in u_star.values()]"
   ]
  },
  {
   "cell_type": "markdown",
   "metadata": {
    "collapsed": false
   },
   "source": [
    "### Calcul de la RMSE"
   ]
  },
  {
   "cell_type": "code",
   "execution_count": 19,
   "metadata": {
    "collapsed": false
   },
   "outputs": [],
   "source": [
    "spot = 100\n",
    "v0_star = 0.03934503\n",
    "kappa_star = 0.127164104\n",
    "theta_star = 0.055037216\n",
    "vol_vol_star = 0.001980635\n",
    "rho_star = -0.758753956\n",
    "lambda_star = -0.070279871\n",
    "\n",
    "S, V = heston_montecarlo(spot, v0_star, kappa_star, theta_star, vol_vol_star, rho_star, lambda_star,\n",
    "                         MAPPING_TAU[expiry[5]], r, 503,\n",
    "                         20000, \"P\")\n",
    "data = yf.download(tickers=\"spx\", start=\"2015-01-05\", end=\"2016-12-31\", progress=False)[\"Close\"]\n",
    "data_std = data.rolling(5).std().dropna().to_numpy()\n",
    "S = pd.DataFrame(S.T).mean(axis=1)\n",
    "S_std = S.rolling(5).std().dropna().to_numpy()\n",
    "rmse = np.sqrt(np.sum((data_std - S_std) ** 2) / len(data_std))"
   ]
  },
  {
   "cell_type": "code",
   "execution_count": 20,
   "metadata": {},
   "outputs": [
    {
     "data": {
      "text/plain": [
       "0.00828166220212279"
      ]
     },
     "execution_count": 20,
     "metadata": {},
     "output_type": "execute_result"
    }
   ],
   "source": [
    "rmse"
   ]
  },
  {
   "cell_type": "markdown",
   "metadata": {
    "collapsed": false
   },
   "source": [
    "### Verification des faits stylisés"
   ]
  },
  {
   "cell_type": "code",
   "execution_count": 14,
   "metadata": {
    "collapsed": false
   },
   "outputs": [
    {
     "data": {
      "image/png": "[encoded data removed]",
      "text/plain": [
       "<Figure size 1152x648 with 2 Axes>"
      ]
     },
     "metadata": {
      "needs_background": "light"
     },
     "output_type": "display_data"
    }
   ],
   "source": [
    "log_returns_data = np.log(data).diff(1).dropna()\n",
    "x_data = np.linspace(log_returns_data.min(), log_returns_data.max(), 100)\n",
    "log_returns_S = np.log(S).diff(1).dropna()\n",
    "x_S = np.linspace(log_returns_S.min() * 100, log_returns_S.max() * 100, 100)\n",
    "\n",
    "fig = plt.figure(figsize=(16, 9))\n",
    "ax_data = fig.add_subplot(1, 2, 1)\n",
    "ax_S = fig.add_subplot(1, 2, 2)\n",
    "\n",
    "ax_data.plot(x_data, norm.pdf(x_data, loc=log_returns_data.mean(), scale=log_returns_data.std()), label=\"Normal density\")\n",
    "ax_data.hist(log_returns_data , bins=100, density=True, label=\"SPX\")\n",
    "ax_data.legend()\n",
    "ax_data.set_title(\"Frequency of simulation log returns vs normal density\")\n",
    "ax_data.set_xlabel(\"Log returns of historical data\")\n",
    "\n",
    "ax_S.plot(x_S, norm.pdf(x_S, loc=log_returns_S.mean() * 100, scale=log_returns_S.std() * 100), label=\"Normal density\")\n",
    "ax_S.hist(log_returns_S * 100, bins=100, density=True, label=\"Heston simulation density\")\n",
    "ax_S.legend()\n",
    "ax_S.set_title(\"Frequency of simulation log returns vs normal density\")\n",
    "ax_S.set_xlabel(\"Log returns of simulation\")\n",
    "\n",
    "plt.show()"
   ]
  }
 ],
 "metadata": {
  "kernelspec": {
   "display_name": "Python 3",
   "language": "python",
   "name": "python3"
  },
  "language_info": {
   "codemirror_mode": {
    "name": "ipython",
    "version": 3
   },
   "file_extension": ".py",
   "mimetype": "text/x-python",
   "name": "python",
   "nbconvert_exporter": "python",
   "pygments_lexer": "ipython3",
   "version": "3.9.13"
  },
  "vscode": {
   "interpreter": {
    "hash": "c9b04fdcb430474004bc74d2d28d415b40d0bb88a523fdc7d942e25fe1aa22b8"
   }
  }
 },
 "nbformat": 4,
 "nbformat_minor": 0
}
